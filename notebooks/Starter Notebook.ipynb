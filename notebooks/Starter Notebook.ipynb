{
 "cells": [
  {
   "cell_type": "code",
   "execution_count": 1,
   "metadata": {},
   "outputs": [],
   "source": [
    "import pandas as pd\n",
    "import numpy as np\n",
    "import matplotlib.pyplot as plt\n",
    "import seaborn as sns\n",
    "from jupyterthemes import jtplot\n",
    "from scipy.io import arff\n",
    "import os\n",
    "\n",
    "%matplotlib inline\n",
    "jtplot.style('gruvboxd')"
   ]
  },
  {
   "cell_type": "code",
   "execution_count": 2,
   "metadata": {},
   "outputs": [],
   "source": [
    "DATA_DIR = os.path.join(os.getcwd().replace('Notebooks', 'data'), 'ct-dataset.csv')"
   ]
  },
  {
   "cell_type": "code",
   "execution_count": 3,
   "metadata": {},
   "outputs": [],
   "source": [
    "data = arff.loadarff(DATA_DIR)"
   ]
  },
  {
   "cell_type": "code",
   "execution_count": 4,
   "metadata": {},
   "outputs": [
    {
     "data": {
      "text/plain": [
       "tuple"
      ]
     },
     "execution_count": 4,
     "metadata": {},
     "output_type": "execute_result"
    }
   ],
   "source": [
    "type(data)"
   ]
  },
  {
   "cell_type": "code",
   "execution_count": 5,
   "metadata": {},
   "outputs": [],
   "source": [
    "new_data = [*map(list, data[0])]"
   ]
  },
  {
   "cell_type": "code",
   "execution_count": 6,
   "metadata": {},
   "outputs": [],
   "source": [
    "new_data = np.array(new_data)"
   ]
  },
  {
   "cell_type": "code",
   "execution_count": 7,
   "metadata": {},
   "outputs": [
    {
     "data": {
      "text/plain": [
       "(53500, 386)"
      ]
     },
     "execution_count": 7,
     "metadata": {},
     "output_type": "execute_result"
    }
   ],
   "source": [
    "new_data.shape"
   ]
  },
  {
   "cell_type": "code",
   "execution_count": 8,
   "metadata": {},
   "outputs": [
    {
     "data": {
      "text/plain": [
       "array([[ 0.      ,  0.      ,  0.      , ..., -0.25    , -0.25    ,\n",
       "        21.803851],\n",
       "       [ 0.      ,  0.      ,  0.      , ..., -0.25    , -0.25    ,\n",
       "        21.745726],\n",
       "       [ 0.      ,  0.      ,  0.      , ..., -0.25    , -0.25    ,\n",
       "        21.6876  ],\n",
       "       ...,\n",
       "       [ 0.      ,  0.      ,  0.      , ..., -0.25    , -0.25    ,\n",
       "        21.396971],\n",
       "       [ 0.      ,  0.      ,  0.      , ..., -0.25    , -0.25    ,\n",
       "        21.28072 ],\n",
       "       [ 0.      ,  0.      ,  0.      , ..., -0.25    , -0.25    ,\n",
       "        22.617612]])"
      ]
     },
     "execution_count": 8,
     "metadata": {},
     "output_type": "execute_result"
    }
   ],
   "source": [
    "new_data[:10]"
   ]
  },
  {
   "cell_type": "code",
   "execution_count": 9,
   "metadata": {},
   "outputs": [],
   "source": [
    "new_data = pd.DataFrame(new_data)"
   ]
  },
  {
   "cell_type": "code",
   "execution_count": 10,
   "metadata": {},
   "outputs": [
    {
     "data": {
      "text/html": [
       "<div>\n",
       "<style scoped>\n",
       "    .dataframe tbody tr th:only-of-type {\n",
       "        vertical-align: middle;\n",
       "    }\n",
       "\n",
       "    .dataframe tbody tr th {\n",
       "        vertical-align: top;\n",
       "    }\n",
       "\n",
       "    .dataframe thead th {\n",
       "        text-align: right;\n",
       "    }\n",
       "</style>\n",
       "<table border=\"1\" class=\"dataframe\">\n",
       "  <thead>\n",
       "    <tr style=\"text-align: right;\">\n",
       "      <th></th>\n",
       "      <th>0</th>\n",
       "      <th>1</th>\n",
       "      <th>2</th>\n",
       "      <th>3</th>\n",
       "      <th>4</th>\n",
       "      <th>5</th>\n",
       "      <th>6</th>\n",
       "      <th>7</th>\n",
       "      <th>8</th>\n",
       "      <th>9</th>\n",
       "      <th>...</th>\n",
       "      <th>376</th>\n",
       "      <th>377</th>\n",
       "      <th>378</th>\n",
       "      <th>379</th>\n",
       "      <th>380</th>\n",
       "      <th>381</th>\n",
       "      <th>382</th>\n",
       "      <th>383</th>\n",
       "      <th>384</th>\n",
       "      <th>385</th>\n",
       "    </tr>\n",
       "  </thead>\n",
       "  <tbody>\n",
       "    <tr>\n",
       "      <th>0</th>\n",
       "      <td>0.0</td>\n",
       "      <td>0.0</td>\n",
       "      <td>0.0</td>\n",
       "      <td>0.0</td>\n",
       "      <td>0.0</td>\n",
       "      <td>0.0</td>\n",
       "      <td>0.0</td>\n",
       "      <td>-0.25</td>\n",
       "      <td>-0.25</td>\n",
       "      <td>-0.25</td>\n",
       "      <td>...</td>\n",
       "      <td>-0.25</td>\n",
       "      <td>0.980381</td>\n",
       "      <td>0.0</td>\n",
       "      <td>0.0</td>\n",
       "      <td>0.0</td>\n",
       "      <td>0.0</td>\n",
       "      <td>0.0</td>\n",
       "      <td>-0.25</td>\n",
       "      <td>-0.25</td>\n",
       "      <td>21.803851</td>\n",
       "    </tr>\n",
       "    <tr>\n",
       "      <th>1</th>\n",
       "      <td>0.0</td>\n",
       "      <td>0.0</td>\n",
       "      <td>0.0</td>\n",
       "      <td>0.0</td>\n",
       "      <td>0.0</td>\n",
       "      <td>0.0</td>\n",
       "      <td>0.0</td>\n",
       "      <td>-0.25</td>\n",
       "      <td>-0.25</td>\n",
       "      <td>-0.25</td>\n",
       "      <td>...</td>\n",
       "      <td>-0.25</td>\n",
       "      <td>0.977008</td>\n",
       "      <td>0.0</td>\n",
       "      <td>0.0</td>\n",
       "      <td>0.0</td>\n",
       "      <td>0.0</td>\n",
       "      <td>0.0</td>\n",
       "      <td>-0.25</td>\n",
       "      <td>-0.25</td>\n",
       "      <td>21.745726</td>\n",
       "    </tr>\n",
       "    <tr>\n",
       "      <th>2</th>\n",
       "      <td>0.0</td>\n",
       "      <td>0.0</td>\n",
       "      <td>0.0</td>\n",
       "      <td>0.0</td>\n",
       "      <td>0.0</td>\n",
       "      <td>0.0</td>\n",
       "      <td>0.0</td>\n",
       "      <td>-0.25</td>\n",
       "      <td>-0.25</td>\n",
       "      <td>-0.25</td>\n",
       "      <td>...</td>\n",
       "      <td>-0.25</td>\n",
       "      <td>0.977008</td>\n",
       "      <td>0.0</td>\n",
       "      <td>0.0</td>\n",
       "      <td>0.0</td>\n",
       "      <td>0.0</td>\n",
       "      <td>0.0</td>\n",
       "      <td>-0.25</td>\n",
       "      <td>-0.25</td>\n",
       "      <td>21.687600</td>\n",
       "    </tr>\n",
       "    <tr>\n",
       "      <th>3</th>\n",
       "      <td>0.0</td>\n",
       "      <td>0.0</td>\n",
       "      <td>0.0</td>\n",
       "      <td>0.0</td>\n",
       "      <td>0.0</td>\n",
       "      <td>0.0</td>\n",
       "      <td>0.0</td>\n",
       "      <td>-0.25</td>\n",
       "      <td>-0.25</td>\n",
       "      <td>-0.25</td>\n",
       "      <td>...</td>\n",
       "      <td>-0.25</td>\n",
       "      <td>0.977008</td>\n",
       "      <td>0.0</td>\n",
       "      <td>0.0</td>\n",
       "      <td>0.0</td>\n",
       "      <td>0.0</td>\n",
       "      <td>0.0</td>\n",
       "      <td>-0.25</td>\n",
       "      <td>-0.25</td>\n",
       "      <td>21.629474</td>\n",
       "    </tr>\n",
       "    <tr>\n",
       "      <th>4</th>\n",
       "      <td>0.0</td>\n",
       "      <td>0.0</td>\n",
       "      <td>0.0</td>\n",
       "      <td>0.0</td>\n",
       "      <td>0.0</td>\n",
       "      <td>0.0</td>\n",
       "      <td>0.0</td>\n",
       "      <td>-0.25</td>\n",
       "      <td>-0.25</td>\n",
       "      <td>-0.25</td>\n",
       "      <td>...</td>\n",
       "      <td>-0.25</td>\n",
       "      <td>0.976833</td>\n",
       "      <td>0.0</td>\n",
       "      <td>0.0</td>\n",
       "      <td>0.0</td>\n",
       "      <td>0.0</td>\n",
       "      <td>0.0</td>\n",
       "      <td>-0.25</td>\n",
       "      <td>-0.25</td>\n",
       "      <td>21.571348</td>\n",
       "    </tr>\n",
       "  </tbody>\n",
       "</table>\n",
       "<p>5 rows × 386 columns</p>\n",
       "</div>"
      ],
      "text/plain": [
       "   0    1    2    3    4    5    6     7     8     9    ...   376       377  \\\n",
       "0  0.0  0.0  0.0  0.0  0.0  0.0  0.0 -0.25 -0.25 -0.25  ... -0.25  0.980381   \n",
       "1  0.0  0.0  0.0  0.0  0.0  0.0  0.0 -0.25 -0.25 -0.25  ... -0.25  0.977008   \n",
       "2  0.0  0.0  0.0  0.0  0.0  0.0  0.0 -0.25 -0.25 -0.25  ... -0.25  0.977008   \n",
       "3  0.0  0.0  0.0  0.0  0.0  0.0  0.0 -0.25 -0.25 -0.25  ... -0.25  0.977008   \n",
       "4  0.0  0.0  0.0  0.0  0.0  0.0  0.0 -0.25 -0.25 -0.25  ... -0.25  0.976833   \n",
       "\n",
       "   378  379  380  381  382   383   384        385  \n",
       "0  0.0  0.0  0.0  0.0  0.0 -0.25 -0.25  21.803851  \n",
       "1  0.0  0.0  0.0  0.0  0.0 -0.25 -0.25  21.745726  \n",
       "2  0.0  0.0  0.0  0.0  0.0 -0.25 -0.25  21.687600  \n",
       "3  0.0  0.0  0.0  0.0  0.0 -0.25 -0.25  21.629474  \n",
       "4  0.0  0.0  0.0  0.0  0.0 -0.25 -0.25  21.571348  \n",
       "\n",
       "[5 rows x 386 columns]"
      ]
     },
     "execution_count": 10,
     "metadata": {},
     "output_type": "execute_result"
    }
   ],
   "source": [
    "new_data.head()"
   ]
  },
  {
   "cell_type": "code",
   "execution_count": 11,
   "metadata": {},
   "outputs": [
    {
     "data": {
      "text/html": [
       "<div>\n",
       "<style scoped>\n",
       "    .dataframe tbody tr th:only-of-type {\n",
       "        vertical-align: middle;\n",
       "    }\n",
       "\n",
       "    .dataframe tbody tr th {\n",
       "        vertical-align: top;\n",
       "    }\n",
       "\n",
       "    .dataframe thead th {\n",
       "        text-align: right;\n",
       "    }\n",
       "</style>\n",
       "<table border=\"1\" class=\"dataframe\">\n",
       "  <thead>\n",
       "    <tr style=\"text-align: right;\">\n",
       "      <th></th>\n",
       "      <th>0</th>\n",
       "      <th>1</th>\n",
       "      <th>2</th>\n",
       "      <th>3</th>\n",
       "      <th>4</th>\n",
       "      <th>5</th>\n",
       "      <th>6</th>\n",
       "      <th>7</th>\n",
       "      <th>8</th>\n",
       "      <th>9</th>\n",
       "      <th>...</th>\n",
       "      <th>376</th>\n",
       "      <th>377</th>\n",
       "      <th>378</th>\n",
       "      <th>379</th>\n",
       "      <th>380</th>\n",
       "      <th>381</th>\n",
       "      <th>382</th>\n",
       "      <th>383</th>\n",
       "      <th>384</th>\n",
       "      <th>385</th>\n",
       "    </tr>\n",
       "  </thead>\n",
       "  <tbody>\n",
       "    <tr>\n",
       "      <th>count</th>\n",
       "      <td>53500.000000</td>\n",
       "      <td>53500.000000</td>\n",
       "      <td>53500.000000</td>\n",
       "      <td>53500.000000</td>\n",
       "      <td>53500.000000</td>\n",
       "      <td>53500.000000</td>\n",
       "      <td>53500.000000</td>\n",
       "      <td>53500.000000</td>\n",
       "      <td>53500.000000</td>\n",
       "      <td>53500.000000</td>\n",
       "      <td>...</td>\n",
       "      <td>53500.000000</td>\n",
       "      <td>53500.000000</td>\n",
       "      <td>53500.000000</td>\n",
       "      <td>53500.000000</td>\n",
       "      <td>53500.000000</td>\n",
       "      <td>53500.000000</td>\n",
       "      <td>53500.000000</td>\n",
       "      <td>53500.000000</td>\n",
       "      <td>53500.000000</td>\n",
       "      <td>53500.000000</td>\n",
       "    </tr>\n",
       "    <tr>\n",
       "      <th>mean</th>\n",
       "      <td>47.075701</td>\n",
       "      <td>0.059627</td>\n",
       "      <td>0.071558</td>\n",
       "      <td>0.145819</td>\n",
       "      <td>0.218728</td>\n",
       "      <td>0.274762</td>\n",
       "      <td>0.276189</td>\n",
       "      <td>0.204531</td>\n",
       "      <td>0.062281</td>\n",
       "      <td>-0.042025</td>\n",
       "      <td>...</td>\n",
       "      <td>-0.029404</td>\n",
       "      <td>0.182913</td>\n",
       "      <td>0.320112</td>\n",
       "      <td>0.359373</td>\n",
       "      <td>0.342889</td>\n",
       "      <td>0.266091</td>\n",
       "      <td>0.083049</td>\n",
       "      <td>-0.031146</td>\n",
       "      <td>-0.154524</td>\n",
       "      <td>47.028039</td>\n",
       "    </tr>\n",
       "    <tr>\n",
       "      <th>std</th>\n",
       "      <td>27.414240</td>\n",
       "      <td>0.174243</td>\n",
       "      <td>0.196921</td>\n",
       "      <td>0.300270</td>\n",
       "      <td>0.359163</td>\n",
       "      <td>0.378862</td>\n",
       "      <td>0.369605</td>\n",
       "      <td>0.351294</td>\n",
       "      <td>0.292232</td>\n",
       "      <td>0.268391</td>\n",
       "      <td>...</td>\n",
       "      <td>0.085817</td>\n",
       "      <td>0.383333</td>\n",
       "      <td>0.463517</td>\n",
       "      <td>0.478188</td>\n",
       "      <td>0.471811</td>\n",
       "      <td>0.437633</td>\n",
       "      <td>0.279734</td>\n",
       "      <td>0.098738</td>\n",
       "      <td>0.122491</td>\n",
       "      <td>22.347042</td>\n",
       "    </tr>\n",
       "    <tr>\n",
       "      <th>min</th>\n",
       "      <td>0.000000</td>\n",
       "      <td>0.000000</td>\n",
       "      <td>0.000000</td>\n",
       "      <td>0.000000</td>\n",
       "      <td>0.000000</td>\n",
       "      <td>0.000000</td>\n",
       "      <td>-0.250000</td>\n",
       "      <td>-0.250000</td>\n",
       "      <td>-0.250000</td>\n",
       "      <td>-0.250000</td>\n",
       "      <td>...</td>\n",
       "      <td>-0.250000</td>\n",
       "      <td>0.000000</td>\n",
       "      <td>0.000000</td>\n",
       "      <td>0.000000</td>\n",
       "      <td>0.000000</td>\n",
       "      <td>0.000000</td>\n",
       "      <td>-0.250000</td>\n",
       "      <td>-0.250000</td>\n",
       "      <td>-0.250000</td>\n",
       "      <td>1.738733</td>\n",
       "    </tr>\n",
       "    <tr>\n",
       "      <th>25%</th>\n",
       "      <td>23.000000</td>\n",
       "      <td>0.000000</td>\n",
       "      <td>0.000000</td>\n",
       "      <td>0.000000</td>\n",
       "      <td>0.000000</td>\n",
       "      <td>0.000000</td>\n",
       "      <td>0.000000</td>\n",
       "      <td>0.000000</td>\n",
       "      <td>0.000000</td>\n",
       "      <td>-0.250000</td>\n",
       "      <td>...</td>\n",
       "      <td>0.000000</td>\n",
       "      <td>0.000000</td>\n",
       "      <td>0.000000</td>\n",
       "      <td>0.000000</td>\n",
       "      <td>0.000000</td>\n",
       "      <td>0.000000</td>\n",
       "      <td>0.000000</td>\n",
       "      <td>0.000000</td>\n",
       "      <td>-0.250000</td>\n",
       "      <td>29.891607</td>\n",
       "    </tr>\n",
       "    <tr>\n",
       "      <th>50%</th>\n",
       "      <td>46.000000</td>\n",
       "      <td>0.000000</td>\n",
       "      <td>0.000000</td>\n",
       "      <td>0.000000</td>\n",
       "      <td>0.000000</td>\n",
       "      <td>0.000000</td>\n",
       "      <td>0.000000</td>\n",
       "      <td>0.000000</td>\n",
       "      <td>0.000000</td>\n",
       "      <td>0.000000</td>\n",
       "      <td>...</td>\n",
       "      <td>0.000000</td>\n",
       "      <td>0.000000</td>\n",
       "      <td>0.000000</td>\n",
       "      <td>0.000000</td>\n",
       "      <td>0.000000</td>\n",
       "      <td>0.000000</td>\n",
       "      <td>0.000000</td>\n",
       "      <td>0.000000</td>\n",
       "      <td>-0.250000</td>\n",
       "      <td>43.987893</td>\n",
       "    </tr>\n",
       "    <tr>\n",
       "      <th>75%</th>\n",
       "      <td>70.000000</td>\n",
       "      <td>0.000000</td>\n",
       "      <td>0.000000</td>\n",
       "      <td>0.000000</td>\n",
       "      <td>0.446429</td>\n",
       "      <td>0.684477</td>\n",
       "      <td>0.662382</td>\n",
       "      <td>0.441412</td>\n",
       "      <td>0.000000</td>\n",
       "      <td>0.000000</td>\n",
       "      <td>...</td>\n",
       "      <td>0.000000</td>\n",
       "      <td>0.000000</td>\n",
       "      <td>0.996286</td>\n",
       "      <td>0.999677</td>\n",
       "      <td>0.999560</td>\n",
       "      <td>0.949478</td>\n",
       "      <td>0.000000</td>\n",
       "      <td>0.000000</td>\n",
       "      <td>0.000000</td>\n",
       "      <td>63.735059</td>\n",
       "    </tr>\n",
       "    <tr>\n",
       "      <th>max</th>\n",
       "      <td>96.000000</td>\n",
       "      <td>1.000000</td>\n",
       "      <td>1.000000</td>\n",
       "      <td>1.000000</td>\n",
       "      <td>1.000000</td>\n",
       "      <td>0.998790</td>\n",
       "      <td>0.996468</td>\n",
       "      <td>0.999334</td>\n",
       "      <td>1.000000</td>\n",
       "      <td>1.000000</td>\n",
       "      <td>...</td>\n",
       "      <td>0.961279</td>\n",
       "      <td>1.000000</td>\n",
       "      <td>1.000000</td>\n",
       "      <td>1.000000</td>\n",
       "      <td>1.000000</td>\n",
       "      <td>1.000000</td>\n",
       "      <td>0.999857</td>\n",
       "      <td>0.996839</td>\n",
       "      <td>0.942851</td>\n",
       "      <td>97.489115</td>\n",
       "    </tr>\n",
       "  </tbody>\n",
       "</table>\n",
       "<p>8 rows × 386 columns</p>\n",
       "</div>"
      ],
      "text/plain": [
       "                0             1             2             3             4    \\\n",
       "count  53500.000000  53500.000000  53500.000000  53500.000000  53500.000000   \n",
       "mean      47.075701      0.059627      0.071558      0.145819      0.218728   \n",
       "std       27.414240      0.174243      0.196921      0.300270      0.359163   \n",
       "min        0.000000      0.000000      0.000000      0.000000      0.000000   \n",
       "25%       23.000000      0.000000      0.000000      0.000000      0.000000   \n",
       "50%       46.000000      0.000000      0.000000      0.000000      0.000000   \n",
       "75%       70.000000      0.000000      0.000000      0.000000      0.446429   \n",
       "max       96.000000      1.000000      1.000000      1.000000      1.000000   \n",
       "\n",
       "                5             6             7             8             9    \\\n",
       "count  53500.000000  53500.000000  53500.000000  53500.000000  53500.000000   \n",
       "mean       0.274762      0.276189      0.204531      0.062281     -0.042025   \n",
       "std        0.378862      0.369605      0.351294      0.292232      0.268391   \n",
       "min        0.000000     -0.250000     -0.250000     -0.250000     -0.250000   \n",
       "25%        0.000000      0.000000      0.000000      0.000000     -0.250000   \n",
       "50%        0.000000      0.000000      0.000000      0.000000      0.000000   \n",
       "75%        0.684477      0.662382      0.441412      0.000000      0.000000   \n",
       "max        0.998790      0.996468      0.999334      1.000000      1.000000   \n",
       "\n",
       "       ...           376           377           378           379  \\\n",
       "count  ...  53500.000000  53500.000000  53500.000000  53500.000000   \n",
       "mean   ...     -0.029404      0.182913      0.320112      0.359373   \n",
       "std    ...      0.085817      0.383333      0.463517      0.478188   \n",
       "min    ...     -0.250000      0.000000      0.000000      0.000000   \n",
       "25%    ...      0.000000      0.000000      0.000000      0.000000   \n",
       "50%    ...      0.000000      0.000000      0.000000      0.000000   \n",
       "75%    ...      0.000000      0.000000      0.996286      0.999677   \n",
       "max    ...      0.961279      1.000000      1.000000      1.000000   \n",
       "\n",
       "                380           381           382           383           384  \\\n",
       "count  53500.000000  53500.000000  53500.000000  53500.000000  53500.000000   \n",
       "mean       0.342889      0.266091      0.083049     -0.031146     -0.154524   \n",
       "std        0.471811      0.437633      0.279734      0.098738      0.122491   \n",
       "min        0.000000      0.000000     -0.250000     -0.250000     -0.250000   \n",
       "25%        0.000000      0.000000      0.000000      0.000000     -0.250000   \n",
       "50%        0.000000      0.000000      0.000000      0.000000     -0.250000   \n",
       "75%        0.999560      0.949478      0.000000      0.000000      0.000000   \n",
       "max        1.000000      1.000000      0.999857      0.996839      0.942851   \n",
       "\n",
       "                385  \n",
       "count  53500.000000  \n",
       "mean      47.028039  \n",
       "std       22.347042  \n",
       "min        1.738733  \n",
       "25%       29.891607  \n",
       "50%       43.987893  \n",
       "75%       63.735059  \n",
       "max       97.489115  \n",
       "\n",
       "[8 rows x 386 columns]"
      ]
     },
     "execution_count": 11,
     "metadata": {},
     "output_type": "execute_result"
    }
   ],
   "source": [
    "new_data.describe()"
   ]
  },
  {
   "cell_type": "code",
   "execution_count": 12,
   "metadata": {},
   "outputs": [],
   "source": [
    "from sklearn.preprocessing import StandardScaler\n",
    "from sklearn.svm import LinearSVR\n",
    "from sklearn.model_selection import train_test_split\n",
    "from sklearn.pipeline import Pipeline\n",
    "from sklearn.metrics import r2_score"
   ]
  },
  {
   "cell_type": "code",
   "execution_count": 13,
   "metadata": {},
   "outputs": [],
   "source": [
    "### Get features and targets\n",
    "X = new_data.iloc[:, 1:-1]\n",
    "y = new_data.iloc[:, -1]\n",
    "\n",
    "### Train, test, and valid sets\n",
    "X_train, X_test, y_train, y_test = train_test_split(X, y, test_size = 0.2)\n",
    "X_train, X_val, y_train, y_val = train_test_split(X_train, y_train, test_size = 0.35)"
   ]
  },
  {
   "cell_type": "code",
   "execution_count": 14,
   "metadata": {},
   "outputs": [
    {
     "data": {
      "text/plain": [
       "LinearSVR(C=1, max_iter=10000)"
      ]
     },
     "execution_count": 14,
     "metadata": {},
     "output_type": "execute_result"
    }
   ],
   "source": [
    "### Instantiate and train model\n",
    "model = LinearSVR(C = 1, max_iter = 10000)\n",
    "\n",
    "model.fit(X_train, y_train)"
   ]
  },
  {
   "cell_type": "code",
   "execution_count": 15,
   "metadata": {},
   "outputs": [
    {
     "data": {
      "text/plain": [
       "0.8452015806952119"
      ]
     },
     "execution_count": 15,
     "metadata": {},
     "output_type": "execute_result"
    }
   ],
   "source": [
    "### Train R-Squared\n",
    "model.score(X_train, y_train)\n",
    "r2_score(y_train, model.predict(X_train))"
   ]
  },
  {
   "cell_type": "code",
   "execution_count": 16,
   "metadata": {},
   "outputs": [
    {
     "data": {
      "text/plain": [
       "0.8485748557037252"
      ]
     },
     "execution_count": 16,
     "metadata": {},
     "output_type": "execute_result"
    }
   ],
   "source": [
    "### Valid R-Squared\n",
    "r2_score(y_val, model.predict(X_val))"
   ]
  },
  {
   "cell_type": "code",
   "execution_count": 17,
   "metadata": {},
   "outputs": [
    {
     "data": {
      "text/plain": [
       "0.8416889467050237"
      ]
     },
     "execution_count": 17,
     "metadata": {},
     "output_type": "execute_result"
    }
   ],
   "source": [
    "### Test R-Squared\n",
    "r2_score(y_test, model.predict(X_test))"
   ]
  },
  {
   "cell_type": "code",
   "execution_count": null,
   "metadata": {},
   "outputs": [],
   "source": []
  }
 ],
 "metadata": {
  "kernelspec": {
   "display_name": "Python 3 (ipykernel)",
   "language": "python",
   "name": "python3"
  },
  "language_info": {
   "codemirror_mode": {
    "name": "ipython",
    "version": 3
   },
   "file_extension": ".py",
   "mimetype": "text/x-python",
   "name": "python",
   "nbconvert_exporter": "python",
   "pygments_lexer": "ipython3",
   "version": "3.9.12"
  }
 },
 "nbformat": 4,
 "nbformat_minor": 4
}
